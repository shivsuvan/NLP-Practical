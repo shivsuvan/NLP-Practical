{
 "cells": [
  {
   "cell_type": "markdown",
   "metadata": {},
   "source": [
    "# Web Scraping Facebook with Selenium\n",
    "\n",
    "Download your <b>entire</b> image gallery with a <b>100% automation</b>\n",
    "<br>\n",
    "Targeting:\n",
    "<ul>\n",
    "    <li>images uploaded by yourself</li>\n",
    "    <li>images you were tagged in, uploaded by others</li>\n",
    "</ul>\n",
    "\n",
    "### Download ChromeDriver\n",
    "We need to download latest stable release of ChromeDriver from:\n",
    "https://chromedriver.chromium.org/\n",
    "<br>\n",
    "<br>\n",
    "<b>If you know where your ROOT folder is</b>\n",
    "<br>\n",
    "save it there and you won't need to specify a URL to this file at webdriver.Chrome()\n",
    "<br>\n",
    "<b>If you don't know where your ROOT folder is</b>\n",
    "<br>\n",
    "save it anywhere and secify the URL of the file inside webdriver.Chrome(\"my/URL\")\n",
    "\n",
    "### Import Selenium & time"
   ]
  },
  {
   "cell_type": "code",
   "execution_count": 34,
   "metadata": {},
   "outputs": [],
   "source": [
    "#imports here\n",
    "from selenium import webdriver\n",
    "from selenium.webdriver.common.keys import Keys\n",
    "from selenium.webdriver.support import expected_conditions as EC\n",
    "from selenium.webdriver.common.by import By\n",
    "from selenium.webdriver.support.wait import WebDriverWait\n",
    "import time"
   ]
  },
  {
   "cell_type": "markdown",
   "metadata": {},
   "source": [
    "### Step 1: Disable Alerts/Notifications\n",
    "\n",
    "!! Using code by <b>pythonjar</b> of <b>Stackoverflow</b> !!\n",
    "<br>\n",
    "Please visit this thread for more details:\n",
    "<br>\n",
    "https://stackoverflow.com/questions/41400934/handle-notifications-in-python-selenium-chrome-webdriver"
   ]
  },
  {
   "cell_type": "code",
   "execution_count": 35,
   "metadata": {},
   "outputs": [],
   "source": [
    "#code by pythonjar, not me\n",
    "chrome_options = webdriver.ChromeOptions()\n",
    "prefs = {\"profile.default_content_setting_values.notifications\" : 2}\n",
    "chrome_options.add_experimental_option(\"prefs\",prefs)"
   ]
  },
  {
   "cell_type": "markdown",
   "metadata": {},
   "source": [
    "### Step 2: Log into your personal Facebook account\n",
    "MAKE SURE to replace <b><i>my_username</i></b> and <b><i>my_password</i></b> with your own unique values\n"
   ]
  },
  {
   "cell_type": "code",
   "execution_count": 36,
   "metadata": {},
   "outputs": [
    {
     "name": "stderr",
     "output_type": "stream",
     "text": [
      "<ipython-input-36-de31ee921915>:2: DeprecationWarning: use options instead of chrome_options\n",
      "  driver = webdriver.Chrome('C:/Users/goaim/chromedriver.exe', chrome_options=chrome_options)\n"
     ]
    }
   ],
   "source": [
    "#specify the path to chromedriver.exe (download and save on your computer)\n",
    "driver = webdriver.Chrome('C:/Users/goaim/chromedriver.exe', chrome_options=chrome_options)\n",
    "\n",
    "#open the webpage\n",
    "driver.get(\"http://www.facebook.com\")\n",
    "\n",
    "#target username\n",
    "username = WebDriverWait(driver, 10).until(EC.element_to_be_clickable((By.CSS_SELECTOR, \"input[name='email']\")))\n",
    "password = WebDriverWait(driver, 10).until(EC.element_to_be_clickable((By.CSS_SELECTOR, \"input[name='pass']\")))\n",
    "\n",
    "#enter username and password\n",
    "username.clear()\n",
    "username.send_keys(\"my_username\")\n",
    "password.clear()\n",
    "password.send_keys(\"my_password\")\n",
    "\n",
    "#target the login button and click it\n",
    "button = WebDriverWait(driver, 2).until(EC.element_to_be_clickable((By.CSS_SELECTOR, \"button[type='submit']\"))).click()\n",
    "\n",
    "#We are logged in!"
   ]
  },
  {
   "cell_type": "markdown",
   "metadata": {},
   "source": [
    "### Step 3: Extract All the Photos\n",
    "\n",
    "!! Update <b><i>goldie.may.750</i></b> to your own unique profile address !!\n",
    "<ul>\n",
    "    <li>Create an empty list <b><i>(images)</i></b></li>\n",
    "    <li>Loop over all the photos you've ever uploaded (<b><i>photos_all</i></b>)</li>\n",
    "    <li>Loop over all the photos you were ever tagged in by other users(<b><i>photos</i></b>)</li>\n",
    "    <li>Scroll to the very bottom of the page (or to a certain range)</li>\n",
    "    <li>Extract links to photos</li>\n",
    "    <li>Follow the link and extract store the image inside <b><i>(images)</i></b></li>\n",
    "</ul>"
   ]
  },
  {
   "cell_type": "code",
   "execution_count": 37,
   "metadata": {},
   "outputs": [
    {
     "name": "stdout",
     "output_type": "stream",
     "text": [
      "Found 3 links to images\n",
      "Found 1 links to images\n",
      "I scraped 4 images!\n"
     ]
    }
   ],
   "source": [
    "#wait 5 seconds to allow your new page to load\n",
    "time.sleep(5)\n",
    "images = [] \n",
    "\n",
    "#itterate over both uploaded and tagged images respectively\n",
    "for i in [\"photos_all\", \"photos_of\"]:\n",
    "    # ************************************************\n",
    "    # !! change goldie.may.750 to your own address !!\n",
    "    # ************************************************\n",
    "    driver.get(\"https://www.facebook.com/goldie.may.750/\" + i + \"/\")\n",
    "    time.sleep(5)\n",
    "    \n",
    "    #scroll down\n",
    "    #increase the range to sroll more\n",
    "    #example: range(0,10) scrolls down 650+ images\n",
    "    for j in range(0,1):\n",
    "        driver.execute_script(\"window.scrollTo(0, document.body.scrollHeight);\")\n",
    "        time.sleep(10)\n",
    "\n",
    "    #target all the link elements on the page\n",
    "    anchors = driver.find_elements_by_tag_name('a')\n",
    "    anchors = [a.get_attribute('href') for a in anchors]\n",
    "    #narrow down all links to image links only\n",
    "    anchors = [a for a in anchors if str(a).startswith(\"https://www.facebook.com/photo\")]\n",
    "    \n",
    "    print('Found ' + str(len(anchors)) + ' links to images')\n",
    "    \n",
    "    #extract the [1]st image element in each link\n",
    "    for a in anchors:\n",
    "        driver.get(a) #navigate to link\n",
    "        time.sleep(5) #wait a bit\n",
    "        img = driver.find_elements_by_tag_name(\"img\")\n",
    "        images.append(img[1].get_attribute(\"src\")) #may change in future to img[?]\n",
    "\n",
    "print('I scraped '+ str(len(images)) + ' images!')"
   ]
  },
  {
   "cell_type": "markdown",
   "metadata": {},
   "source": [
    "### Make sure you got the right images!\n",
    "\n",
    "Before we move on, please check if the first URL leads to the first image you wanted to scrape. If not, please addust the index of your <b>img</b> variable from 1 to what's currently relevant (in the previous cell)"
   ]
  },
  {
   "cell_type": "code",
   "execution_count": 38,
   "metadata": {},
   "outputs": [
    {
     "data": {
      "text/plain": [
       "['https://scontent.fcxh3-1.fna.fbcdn.net/v/t1.0-9/140352504_100665925362090_559225914483352421_n.jpg?_nc_cat=105&ccb=2&_nc_sid=0debeb&_nc_ohc=eu3gWavSFawAX8iUZIF&_nc_ht=scontent.fcxh3-1.fna&oh=2b1fcfb1ac26c787158a132b61426c13&oe=602BFFE0',\n",
       " 'https://scontent.fcxh3-1.fna.fbcdn.net/v/t1.0-9/140134143_100665918695424_4499568289102186586_n.jpg?_nc_cat=106&ccb=2&_nc_sid=0debeb&_nc_ohc=3Z7vL5UUreQAX923WKJ&_nc_ht=scontent.fcxh3-1.fna&oh=684ca4a5655903e0b93f7163e4139819&oe=602B346C',\n",
       " 'https://scontent.fcxh3-1.fna.fbcdn.net/v/t1.0-9/139751386_100665845362098_6384942584914448200_n.jpg?_nc_cat=102&ccb=2&_nc_sid=730e14&_nc_ohc=GyG_fW2bDO0AX-jJX_Y&_nc_ht=scontent.fcxh3-1.fna&oh=9f5ef30f46fd43c231cb6fb0fb002e77&oe=602DBB83',\n",
       " 'https://scontent.fcxh3-1.fna.fbcdn.net/v/t1.0-9/140664896_10224181801874000_8342308429965635784_n.jpg?_nc_cat=102&ccb=2&_nc_sid=8bfeb9&_nc_ohc=br9F-kXWZ5kAX8JTXzo&_nc_ht=scontent.fcxh3-1.fna&oh=2cc4e915cc47929cc08aab95a755960f&oe=602C4385']"
      ]
     },
     "execution_count": 38,
     "metadata": {},
     "output_type": "execute_result"
    }
   ],
   "source": [
    " images"
   ]
  },
  {
   "cell_type": "markdown",
   "metadata": {},
   "source": [
    "### Step 4: Create a new directory in the current folder\n",
    "\n",
    "\n",
    "using OS path"
   ]
  },
  {
   "cell_type": "code",
   "execution_count": 39,
   "metadata": {},
   "outputs": [],
   "source": [
    "\n",
    "import os\n",
    "\n",
    "path = os.getcwd()\n",
    "path = os.path.join(path, \"FB_SCRAPED\")\n",
    "\n",
    "#create the directory\n",
    "os.mkdir(path)"
   ]
  },
  {
   "cell_type": "markdown",
   "metadata": {},
   "source": [
    "### Step 5: Save all the photos in the new directory\n",
    "\n",
    "Using wget"
   ]
  },
  {
   "cell_type": "code",
   "execution_count": 40,
   "metadata": {},
   "outputs": [
    {
     "name": "stdout",
     "output_type": "stream",
     "text": [
      "100% [..............................................................................] 20320 / 20320"
     ]
    }
   ],
   "source": [
    "import wget\n",
    "\n",
    "#download images\n",
    "counter = 0\n",
    "for image in images:\n",
    "    save_as = os.path.join(path, str(counter) + '.jpg')\n",
    "    wget.download(image, save_as)\n",
    "    counter += 1"
   ]
  }
 ],
 "metadata": {
  "kernelspec": {
   "display_name": "Python 3",
   "language": "python",
   "name": "python3"
  },
  "language_info": {
   "codemirror_mode": {
    "name": "ipython",
    "version": 3
   },
   "file_extension": ".py",
   "mimetype": "text/x-python",
   "name": "python",
   "nbconvert_exporter": "python",
   "pygments_lexer": "ipython3",
   "version": "3.8.5"
  }
 },
 "nbformat": 4,
 "nbformat_minor": 4
}
